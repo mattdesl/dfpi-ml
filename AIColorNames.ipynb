{
  "nbformat": 4,
  "nbformat_minor": 0,
  "metadata": {
    "colab": {
      "name": "AIColorNames.ipynb",
      "provenance": [],
      "collapsed_sections": []
    },
    "kernelspec": {
      "name": "python3",
      "display_name": "Python 3"
    },
    "accelerator": "GPU"
  },
  "cells": [
    {
      "cell_type": "code",
      "metadata": {
        "id": "M6nWSblsMxCG",
        "colab_type": "code",
        "outputId": "f19fa8d5-2827-49a3-9fda-27675ef1d719",
        "colab": {
          "base_uri": "https://localhost:8080/",
          "height": 34
        }
      },
      "source": [
        "# Here we set up Tensorflow for the Colab notebook\n",
        "\n",
        "%tensorflow_version 1.x\n",
        "!pip install -q textgenrnn\n",
        "from google.colab import files\n",
        "from textgenrnn import textgenrnn\n",
        "import os\n",
        "\n",
        "os.environ['TF_CPP_MIN_LOG_LEVEL'] = '3' \n",
        "import tensorflow as tf\n",
        "import logging\n",
        "logger = tf.get_logger()\n",
        "logger.setLevel(logging.ERROR)"
      ],
      "execution_count": 3,
      "outputs": [
        {
          "output_type": "stream",
          "text": [
            "Using TensorFlow backend.\n"
          ],
          "name": "stderr"
        }
      ]
    },
    {
      "cell_type": "code",
      "metadata": {
        "id": "a2T0C4v-NPLs",
        "colab_type": "code",
        "colab": {
          "base_uri": "https://localhost:8080/",
          "height": 51
        },
        "outputId": "382468e0-d9a2-4f30-c4a6-4e189c0236e9"
      },
      "source": [
        "# Next we take a CSV file and turn it into a text file\n",
        "global inputDir, outputDir, trainingFilePath, allTitles\n",
        "\n",
        "import csv\n",
        "from random import shuffle\n",
        "\n",
        "# Where you are storing your training files in your drive\n",
        "inputDir = '/content/drive/My Drive/Colab Notebooks/training/color_names/'\n",
        "outputDir = '/content/drive/My Drive/Colab Notebooks/output/color_names/'\n",
        "\n",
        "# The CSV file you want to parse\n",
        "csvFileName = 'color-names.csv'\n",
        "\n",
        "# Turn it into a .txt for textgenrnn\n",
        "trainingFileName = 'training-names.txt'\n",
        "\n",
        "csvFilePath = os.path.join(inputDir, csvFileName)\n",
        "trainingFilePath = os.path.join(inputDir, trainingFileName)\n",
        "\n",
        "with open(csvFilePath) as csvFile:\n",
        "  # setup a csv reader\n",
        "  csvReader = csv.reader(csvFile)\n",
        "  # skip first line (header)\n",
        "  next(csvReader)\n",
        "  # gather all the names\n",
        "  colors = [ color for color in csvReader ]\n",
        "  names = [ color[1].strip() + ' ' + color[0].strip() for color in colors ]\n",
        "  # shuffle the data\n",
        "  shuffle(names)\n",
        "  print('Got %d titles' % len(names))\n",
        "\n",
        "  # Get all titles as lower-case\n",
        "  # We will use this later to see if a generated name\n",
        "  # already exists in the data\n",
        "  allTitles = [ color[0].strip().lower() for color in colors ]\n",
        "\n",
        "  # write file\n",
        "  with open(trainingFilePath, 'w') as out:\n",
        "    # first line should be a header\n",
        "    text = 'title\\n'\n",
        "\n",
        "    # then all the data split by lines\n",
        "    text += '\\n'.join(names)\n",
        "\n",
        "    # finally write it out\n",
        "    out.write(text)\n",
        "    print('Writing %s' % trainingFilePath)\n"
      ],
      "execution_count": 4,
      "outputs": [
        {
          "output_type": "stream",
          "text": [
            "Got 18329 titles\n",
            "Writing /content/drive/My Drive/Colab Notebooks/training/color_names/training-names.txt\n"
          ],
          "name": "stdout"
        }
      ]
    },
    {
      "cell_type": "code",
      "metadata": {
        "id": "fP4Np7WkNhbD",
        "colab_type": "code",
        "colab": {
          "base_uri": "https://localhost:8080/",
          "height": 71
        },
        "outputId": "725214c9-b498-443a-eaad-effb02551a12"
      },
      "source": [
        "global textgen\n",
        "\n",
        "# get an output path for trained model data\n",
        "weightsFilePath = os.path.join(outputDir, 'textgenrnn_weights_saved.hdf5')\n",
        "\n",
        "# make directory if it doesn't exist\n",
        "os.makedirs(outputDir, exist_ok=True)\n",
        "\n",
        "print('Output Data %s' % weightsFilePath)\n",
        "\n",
        "# Whether to train new weights or load previous weights\n",
        "train_model = False\n",
        "textgen = textgenrnn()\n",
        "\n",
        "if train_model:\n",
        "  print('Training...')\n",
        "  model_config = {\n",
        "      'num_epochs': 6,\n",
        "      'batch_size': 1024\n",
        "  }\n",
        "  textgen.train_from_file(trainingFilePath, gen_epochs=0, progress=False, **model_config)\n",
        "  textgen.save(weightsFilePath)\n",
        "  print('Training complete!')\n",
        "else:\n",
        "  textgen.load(weightsFilePath)\n",
        "  print('Loaded previous session!')"
      ],
      "execution_count": 7,
      "outputs": [
        {
          "output_type": "stream",
          "text": [
            "Output Data /content/drive/My Drive/Colab Notebooks/output/color_names/textgenrnn_weights_saved.hdf5\n",
            "Loaded previous session!\n"
          ],
          "name": "stdout"
        }
      ]
    },
    {
      "cell_type": "code",
      "metadata": {
        "id": "f9zlM5DwJMXn",
        "colab_type": "code",
        "colab": {
          "base_uri": "https://localhost:8080/",
          "height": 374
        },
        "outputId": "768ccb4d-ef06-4e8c-9b38-9e68bee43f60"
      },
      "source": [
        "def gen_samples (model, n=5, temperatures=[0.5, 0.8, 1.0]):\n",
        "  for temperature in temperatures:\n",
        "    print(\"----- TEMP %s\" % temperature)\n",
        "    list = model.generate(n=n, temperature=temperature, return_as_list=True)\n",
        "    for item in list:\n",
        "      postfix = ''\n",
        "      # get everything after the color code\n",
        "      name = ' '.join(item.split(' ')[1:])\n",
        "      if name.lower() in allTitles:\n",
        "        postfix = ' [Exists in Data]'\n",
        "      print(item + postfix)\n",
        "    print()\n",
        "\n",
        "gen_samples(textgen)"
      ],
      "execution_count": 13,
      "outputs": [
        {
          "output_type": "stream",
          "text": [
            "----- TEMP 0.5\n",
            "#705c71 Peach Clay\n",
            "#89cecb Strawberry Passion\n",
            "#b9968c Steel Blue [Exists in Data]\n",
            "#8f4c5c Cute Lilac\n",
            "#9b9b9c Bright Cream\n",
            "\n",
            "----- TEMP 0.8\n",
            "#fe6caf Pool North\n",
            "#678631 Eclipse [Exists in Data]\n",
            "#667778 Lemon Bay\n",
            "#ecad97 Grapingano\n",
            "#e8b55a Matmous Shady\n",
            "\n",
            "----- TEMP 1.0\n",
            "#54785f Radian Green\n",
            "#e9cf15 Asalite Green\n",
            "#e5acf2 Wisteria Glass\n",
            "#b8b645 Pink Leaf\n",
            "#9d7061 Deep Moss\n",
            "\n"
          ],
          "name": "stdout"
        }
      ]
    }
  ]
}